{
 "cells": [
  {
   "cell_type": "code",
   "id": "initial_id",
   "metadata": {
    "collapsed": true,
    "ExecuteTime": {
     "end_time": "2025-08-21T05:33:26.316447Z",
     "start_time": "2025-08-21T05:33:26.307604Z"
    }
   },
   "source": "~12",
   "outputs": [
    {
     "data": {
      "text/plain": [
       "-13"
      ]
     },
     "execution_count": 1,
     "metadata": {},
     "output_type": "execute_result"
    }
   ],
   "execution_count": 1
  },
  {
   "metadata": {
    "ExecuteTime": {
     "end_time": "2025-08-21T05:36:10.345244Z",
     "start_time": "2025-08-21T05:36:10.340470Z"
    }
   },
   "cell_type": "code",
   "source": "13 | 12",
   "id": "206e19cfd62308d8",
   "outputs": [
    {
     "data": {
      "text/plain": [
       "13"
      ]
     },
     "execution_count": 2,
     "metadata": {},
     "output_type": "execute_result"
    }
   ],
   "execution_count": 2
  },
  {
   "metadata": {
    "ExecuteTime": {
     "end_time": "2025-08-21T05:37:43.170718Z",
     "start_time": "2025-08-21T05:37:43.166348Z"
    }
   },
   "cell_type": "code",
   "source": "13|1",
   "id": "7cfbb7d3c785c8d3",
   "outputs": [
    {
     "data": {
      "text/plain": [
       "13"
      ]
     },
     "execution_count": 3,
     "metadata": {},
     "output_type": "execute_result"
    }
   ],
   "execution_count": 3
  },
  {
   "metadata": {
    "ExecuteTime": {
     "end_time": "2025-08-21T05:37:49.282885Z",
     "start_time": "2025-08-21T05:37:49.277817Z"
    }
   },
   "cell_type": "code",
   "source": "14|1",
   "id": "44e246cd3d3d1c7d",
   "outputs": [
    {
     "data": {
      "text/plain": [
       "15"
      ]
     },
     "execution_count": 4,
     "metadata": {},
     "output_type": "execute_result"
    }
   ],
   "execution_count": 4
  },
  {
   "metadata": {
    "ExecuteTime": {
     "end_time": "2025-08-21T06:23:55.071614Z",
     "start_time": "2025-08-21T06:23:55.061913Z"
    }
   },
   "cell_type": "code",
   "source": "15^7^15",
   "id": "fd638626f12e09be",
   "outputs": [
    {
     "data": {
      "text/plain": [
       "7"
      ]
     },
     "execution_count": 5,
     "metadata": {},
     "output_type": "execute_result"
    }
   ],
   "execution_count": 5
  },
  {
   "metadata": {
    "ExecuteTime": {
     "end_time": "2025-08-21T06:24:02.166058Z",
     "start_time": "2025-08-21T06:24:02.161431Z"
    }
   },
   "cell_type": "code",
   "source": "15^7",
   "id": "6c1c88c596adc775",
   "outputs": [
    {
     "data": {
      "text/plain": [
       "8"
      ]
     },
     "execution_count": 6,
     "metadata": {},
     "output_type": "execute_result"
    }
   ],
   "execution_count": 6
  },
  {
   "metadata": {
    "ExecuteTime": {
     "end_time": "2025-08-21T06:24:15.715887Z",
     "start_time": "2025-08-21T06:24:15.711249Z"
    }
   },
   "cell_type": "code",
   "source": "22^4",
   "id": "f9f1b699d637c8ef",
   "outputs": [
    {
     "data": {
      "text/plain": [
       "18"
      ]
     },
     "execution_count": 7,
     "metadata": {},
     "output_type": "execute_result"
    }
   ],
   "execution_count": 7
  },
  {
   "metadata": {},
   "cell_type": "code",
   "outputs": [],
   "execution_count": null,
   "source": "",
   "id": "4af0efb94148f4d3"
  }
 ],
 "metadata": {
  "kernelspec": {
   "display_name": "Python 3",
   "language": "python",
   "name": "python3"
  },
  "language_info": {
   "codemirror_mode": {
    "name": "ipython",
    "version": 2
   },
   "file_extension": ".py",
   "mimetype": "text/x-python",
   "name": "python",
   "nbconvert_exporter": "python",
   "pygments_lexer": "ipython2",
   "version": "2.7.6"
  }
 },
 "nbformat": 4,
 "nbformat_minor": 5
}

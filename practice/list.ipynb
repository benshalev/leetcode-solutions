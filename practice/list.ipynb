{
 "cells": [
  {
   "metadata": {
    "collapsed": true,
    "ExecuteTime": {
     "end_time": "2025-08-21T05:17:32.012713Z",
     "start_time": "2025-08-21T05:17:32.008818Z"
    }
   },
   "cell_type": "code",
   "outputs": [],
   "execution_count": 2,
   "source": "a = [1, 2,3]",
   "id": "743a61b6876f965a"
  },
  {
   "metadata": {
    "ExecuteTime": {
     "end_time": "2025-08-21T05:17:49.988019Z",
     "start_time": "2025-08-21T05:17:49.983493Z"
    }
   },
   "cell_type": "code",
   "source": "print(a)",
   "id": "d79ec2a0eef5f129",
   "outputs": [
    {
     "name": "stdout",
     "output_type": "stream",
     "text": [
      "[1, 2, 3]\n"
     ]
    }
   ],
   "execution_count": 4
  },
  {
   "metadata": {},
   "cell_type": "code",
   "outputs": [],
   "execution_count": null,
   "source": "",
   "id": "5396fcfa872b9a8a"
  }
 ],
 "metadata": {
  "kernelspec": {
   "display_name": "Python 3",
   "language": "python",
   "name": "python3"
  },
  "language_info": {
   "codemirror_mode": {
    "name": "ipython",
    "version": 2
   },
   "file_extension": ".py",
   "mimetype": "text/x-python",
   "name": "python",
   "nbconvert_exporter": "python",
   "pygments_lexer": "ipython2",
   "version": "2.7.6"
  }
 },
 "nbformat": 4,
 "nbformat_minor": 5
}

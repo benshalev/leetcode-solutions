{
 "cells": [
  {
   "cell_type": "code",
   "id": "initial_id",
   "metadata": {
    "collapsed": true,
    "ExecuteTime": {
     "end_time": "2025-08-26T07:46:23.174606Z",
     "start_time": "2025-08-26T07:46:22.956845Z"
    }
   },
   "source": "math.log10(1000)",
   "outputs": [
    {
     "ename": "NameError",
     "evalue": "name 'math' is not defined",
     "output_type": "error",
     "traceback": [
      "\u001B[31m---------------------------------------------------------------------------\u001B[39m",
      "\u001B[31mNameError\u001B[39m                                 Traceback (most recent call last)",
      "\u001B[36mCell\u001B[39m\u001B[36m \u001B[39m\u001B[32mIn[1]\u001B[39m\u001B[32m, line 1\u001B[39m\n\u001B[32m----> \u001B[39m\u001B[32m1\u001B[39m \u001B[43mmath\u001B[49m.log10(\u001B[32m1000\u001B[39m)\n",
      "\u001B[31mNameError\u001B[39m: name 'math' is not defined"
     ]
    }
   ],
   "execution_count": 1
  },
  {
   "metadata": {
    "ExecuteTime": {
     "end_time": "2025-08-27T14:38:04.463536Z",
     "start_time": "2025-08-27T14:38:04.458533Z"
    }
   },
   "cell_type": "code",
   "source": "import math",
   "id": "9eb8c052761bc18e",
   "outputs": [],
   "execution_count": 3
  },
  {
   "metadata": {
    "ExecuteTime": {
     "end_time": "2025-08-26T07:46:52.603791Z",
     "start_time": "2025-08-26T07:46:52.596268Z"
    }
   },
   "cell_type": "code",
   "source": "math.log10(1000)",
   "id": "a92fa4a12f91b362",
   "outputs": [
    {
     "data": {
      "text/plain": [
       "3.0"
      ]
     },
     "execution_count": 3,
     "metadata": {},
     "output_type": "execute_result"
    }
   ],
   "execution_count": 3
  },
  {
   "metadata": {
    "ExecuteTime": {
     "end_time": "2025-08-26T07:47:08.997374Z",
     "start_time": "2025-08-26T07:47:08.992353Z"
    }
   },
   "cell_type": "code",
   "source": "math.log10(1234)",
   "id": "f908707c27bf5af2",
   "outputs": [
    {
     "data": {
      "text/plain": [
       "3.091315159697223"
      ]
     },
     "execution_count": 4,
     "metadata": {},
     "output_type": "execute_result"
    }
   ],
   "execution_count": 4
  },
  {
   "metadata": {
    "ExecuteTime": {
     "end_time": "2025-08-26T07:50:10.474238Z",
     "start_time": "2025-08-26T07:50:10.469795Z"
    }
   },
   "cell_type": "code",
   "source": "(10**int(math.log10(1234)))",
   "id": "bd6226815d45e0db",
   "outputs": [
    {
     "data": {
      "text/plain": [
       "1000"
      ]
     },
     "execution_count": 5,
     "metadata": {},
     "output_type": "execute_result"
    }
   ],
   "execution_count": 5
  },
  {
   "metadata": {
    "ExecuteTime": {
     "end_time": "2025-08-27T14:38:07.476847Z",
     "start_time": "2025-08-27T14:38:07.468087Z"
    }
   },
   "cell_type": "code",
   "source": "math.log(18)",
   "id": "bc010af9060b6e99",
   "outputs": [
    {
     "data": {
      "text/plain": [
       "2.8903717578961645"
      ]
     },
     "execution_count": 4,
     "metadata": {},
     "output_type": "execute_result"
    }
   ],
   "execution_count": 4
  },
  {
   "metadata": {},
   "cell_type": "markdown",
   "source": "",
   "id": "a5ef81d5b094cda2"
  }
 ],
 "metadata": {
  "kernelspec": {
   "display_name": "Python 3",
   "language": "python",
   "name": "python3"
  },
  "language_info": {
   "codemirror_mode": {
    "name": "ipython",
    "version": 2
   },
   "file_extension": ".py",
   "mimetype": "text/x-python",
   "name": "python",
   "nbconvert_exporter": "python",
   "pygments_lexer": "ipython2",
   "version": "2.7.6"
  }
 },
 "nbformat": 4,
 "nbformat_minor": 5
}
